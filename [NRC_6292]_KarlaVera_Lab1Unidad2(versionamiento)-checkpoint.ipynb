{
 "cells": [
  {
   "cell_type": "markdown",
   "id": "6203b487",
   "metadata": {},
   "source": [
    "# Librerías"
   ]
  },
  {
   "cell_type": "code",
   "execution_count": 1,
   "id": "10f57856",
   "metadata": {},
   "outputs": [
    {
     "name": "stdout",
     "output_type": "stream",
     "text": [
      "Importación de las librerías necesarias para la implementación del algoritmo de árbol de decisión\n",
      "None\n"
     ]
    }
   ],
   "source": [
    "def importarlibrerias():\n",
    "    '''Importación de las librerías necesarias para la implementación del algoritmo de árbol de decisión'''\n",
    "import pandas as pd\n",
    "from sklearn.tree import DecisionTreeClassifier\n",
    "from sklearn.model_selection import train_test_split\n",
    "from sklearn import metrics\n",
    "print(importarlibrerias.__doc__)\n",
    "print(importarlibrerias())"
   ]
  },
  {
   "cell_type": "code",
   "execution_count": null,
   "id": "6b0caa39",
   "metadata": {},
   "outputs": [],
   "source": []
  }
 ],
 "metadata": {
  "kernelspec": {
   "display_name": "Python 3 (ipykernel)",
   "language": "python",
   "name": "python3"
  },
  "language_info": {
   "codemirror_mode": {
    "name": "ipython",
    "version": 3
   },
   "file_extension": ".py",
   "mimetype": "text/x-python",
   "name": "python",
   "nbconvert_exporter": "python",
   "pygments_lexer": "ipython3",
   "version": "3.9.12"
  }
 },
 "nbformat": 4,
 "nbformat_minor": 5
}
