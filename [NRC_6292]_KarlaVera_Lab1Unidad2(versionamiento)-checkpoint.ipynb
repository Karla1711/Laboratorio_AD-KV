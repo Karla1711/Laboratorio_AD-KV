{
 "cells": [
  {
   "cell_type": "markdown",
   "id": "ca1f58ff",
   "metadata": {},
   "source": [
    "# Librerías"
   ]
  },
  {
   "cell_type": "code",
   "execution_count": 1,
   "id": "deba52ec",
   "metadata": {},
   "outputs": [
    {
     "name": "stdout",
     "output_type": "stream",
     "text": [
      "Importación de las librerías necesarias para la implementación del algoritmo de árbol de decisión\n",
      "None\n"
     ]
    }
   ],
   "source": [
    "def importarlibrerias():\n",
    "    '''Importación de las librerías necesarias para la implementación del algoritmo de árbol de decisión'''\n",
    "import pandas as pd\n",
    "from sklearn.tree import DecisionTreeClassifier\n",
    "from sklearn.model_selection import train_test_split\n",
    "from sklearn import metrics\n",
    "print(importarlibrerias.__doc__)\n",
    "print(importarlibrerias())"
   ]
  },
  {
   "cell_type": "markdown",
   "id": "f7815cc0",
   "metadata": {},
   "source": [
    "# Leer y cargar datos del dataset (Dataset of Diabetes)"
   ]
  },
  {
   "cell_type": "code",
   "execution_count": 2,
   "id": "f658575d",
   "metadata": {},
   "outputs": [
    {
     "name": "stdout",
     "output_type": "stream",
     "text": [
      "Leer y cargar los datos del dataset (Dataset of Diabetes)\n",
      "None\n"
     ]
    },
    {
     "data": {
      "text/html": [
       "<div>\n",
       "<style scoped>\n",
       "    .dataframe tbody tr th:only-of-type {\n",
       "        vertical-align: middle;\n",
       "    }\n",
       "\n",
       "    .dataframe tbody tr th {\n",
       "        vertical-align: top;\n",
       "    }\n",
       "\n",
       "    .dataframe thead th {\n",
       "        text-align: right;\n",
       "    }\n",
       "</style>\n",
       "<table border=\"1\" class=\"dataframe\">\n",
       "  <thead>\n",
       "    <tr style=\"text-align: right;\">\n",
       "      <th></th>\n",
       "      <th>ID</th>\n",
       "      <th>No_Pation</th>\n",
       "      <th>Gender</th>\n",
       "      <th>AGE</th>\n",
       "      <th>Urea</th>\n",
       "      <th>Cr</th>\n",
       "      <th>HbA1c</th>\n",
       "      <th>Chol</th>\n",
       "      <th>TG</th>\n",
       "      <th>HDL</th>\n",
       "      <th>LDL</th>\n",
       "      <th>VLDL</th>\n",
       "      <th>BMI</th>\n",
       "      <th>CLASS</th>\n",
       "    </tr>\n",
       "  </thead>\n",
       "  <tbody>\n",
       "    <tr>\n",
       "      <th>0</th>\n",
       "      <td>502</td>\n",
       "      <td>17975</td>\n",
       "      <td>F</td>\n",
       "      <td>50</td>\n",
       "      <td>4.7</td>\n",
       "      <td>46</td>\n",
       "      <td>4.9</td>\n",
       "      <td>4.2</td>\n",
       "      <td>0.9</td>\n",
       "      <td>2.4</td>\n",
       "      <td>1.4</td>\n",
       "      <td>0.5</td>\n",
       "      <td>24.0</td>\n",
       "      <td>N</td>\n",
       "    </tr>\n",
       "    <tr>\n",
       "      <th>1</th>\n",
       "      <td>735</td>\n",
       "      <td>34221</td>\n",
       "      <td>M</td>\n",
       "      <td>26</td>\n",
       "      <td>4.5</td>\n",
       "      <td>62</td>\n",
       "      <td>4.9</td>\n",
       "      <td>3.7</td>\n",
       "      <td>1.4</td>\n",
       "      <td>1.1</td>\n",
       "      <td>2.1</td>\n",
       "      <td>0.6</td>\n",
       "      <td>23.0</td>\n",
       "      <td>N</td>\n",
       "    </tr>\n",
       "    <tr>\n",
       "      <th>2</th>\n",
       "      <td>420</td>\n",
       "      <td>47975</td>\n",
       "      <td>F</td>\n",
       "      <td>50</td>\n",
       "      <td>4.7</td>\n",
       "      <td>46</td>\n",
       "      <td>4.9</td>\n",
       "      <td>4.2</td>\n",
       "      <td>0.9</td>\n",
       "      <td>2.4</td>\n",
       "      <td>1.4</td>\n",
       "      <td>0.5</td>\n",
       "      <td>24.0</td>\n",
       "      <td>N</td>\n",
       "    </tr>\n",
       "    <tr>\n",
       "      <th>3</th>\n",
       "      <td>680</td>\n",
       "      <td>87656</td>\n",
       "      <td>F</td>\n",
       "      <td>50</td>\n",
       "      <td>4.7</td>\n",
       "      <td>46</td>\n",
       "      <td>4.9</td>\n",
       "      <td>4.2</td>\n",
       "      <td>0.9</td>\n",
       "      <td>2.4</td>\n",
       "      <td>1.4</td>\n",
       "      <td>0.5</td>\n",
       "      <td>24.0</td>\n",
       "      <td>N</td>\n",
       "    </tr>\n",
       "    <tr>\n",
       "      <th>4</th>\n",
       "      <td>504</td>\n",
       "      <td>34223</td>\n",
       "      <td>M</td>\n",
       "      <td>33</td>\n",
       "      <td>7.1</td>\n",
       "      <td>46</td>\n",
       "      <td>4.9</td>\n",
       "      <td>4.9</td>\n",
       "      <td>1.0</td>\n",
       "      <td>0.8</td>\n",
       "      <td>2.0</td>\n",
       "      <td>0.4</td>\n",
       "      <td>21.0</td>\n",
       "      <td>N</td>\n",
       "    </tr>\n",
       "  </tbody>\n",
       "</table>\n",
       "</div>"
      ],
      "text/plain": [
       "    ID  No_Pation Gender  AGE  Urea  Cr  HbA1c  Chol   TG  HDL  LDL  VLDL  \\\n",
       "0  502      17975      F   50   4.7  46    4.9   4.2  0.9  2.4  1.4   0.5   \n",
       "1  735      34221      M   26   4.5  62    4.9   3.7  1.4  1.1  2.1   0.6   \n",
       "2  420      47975      F   50   4.7  46    4.9   4.2  0.9  2.4  1.4   0.5   \n",
       "3  680      87656      F   50   4.7  46    4.9   4.2  0.9  2.4  1.4   0.5   \n",
       "4  504      34223      M   33   7.1  46    4.9   4.9  1.0  0.8  2.0   0.4   \n",
       "\n",
       "    BMI CLASS  \n",
       "0  24.0     N  \n",
       "1  23.0     N  \n",
       "2  24.0     N  \n",
       "3  24.0     N  \n",
       "4  21.0     N  "
      ]
     },
     "execution_count": 2,
     "metadata": {},
     "output_type": "execute_result"
    }
   ],
   "source": [
    "def leercargar():\n",
    "    '''Leer y cargar los datos del dataset (Dataset of Diabetes)'''\n",
    "df_diabetes = pd.read_csv(\"Dataset of Diabetes .csv\")\n",
    "print(leercargar.__doc__)\n",
    "print(leercargar())\n",
    "df_diabetes.head()"
   ]
  },
  {
   "cell_type": "markdown",
   "id": "89698bec",
   "metadata": {},
   "source": [
    "# Mapeo de datos"
   ]
  },
  {
   "cell_type": "code",
   "execution_count": 3,
   "id": "aa2038a2",
   "metadata": {},
   "outputs": [
    {
     "name": "stdout",
     "output_type": "stream",
     "text": [
      "Con la función map se cambia los valores binarios(0/1)\n",
      "    los valores de Gender (F=1, M=0)\n",
      "None\n"
     ]
    },
    {
     "data": {
      "text/html": [
       "<div>\n",
       "<style scoped>\n",
       "    .dataframe tbody tr th:only-of-type {\n",
       "        vertical-align: middle;\n",
       "    }\n",
       "\n",
       "    .dataframe tbody tr th {\n",
       "        vertical-align: top;\n",
       "    }\n",
       "\n",
       "    .dataframe thead th {\n",
       "        text-align: right;\n",
       "    }\n",
       "</style>\n",
       "<table border=\"1\" class=\"dataframe\">\n",
       "  <thead>\n",
       "    <tr style=\"text-align: right;\">\n",
       "      <th></th>\n",
       "      <th>ID</th>\n",
       "      <th>No_Pation</th>\n",
       "      <th>Gender</th>\n",
       "      <th>AGE</th>\n",
       "      <th>Urea</th>\n",
       "      <th>Cr</th>\n",
       "      <th>HbA1c</th>\n",
       "      <th>Chol</th>\n",
       "      <th>TG</th>\n",
       "      <th>HDL</th>\n",
       "      <th>LDL</th>\n",
       "      <th>VLDL</th>\n",
       "      <th>BMI</th>\n",
       "      <th>CLASS</th>\n",
       "    </tr>\n",
       "  </thead>\n",
       "  <tbody>\n",
       "    <tr>\n",
       "      <th>0</th>\n",
       "      <td>502</td>\n",
       "      <td>17975</td>\n",
       "      <td>1.0</td>\n",
       "      <td>50</td>\n",
       "      <td>4.7</td>\n",
       "      <td>46</td>\n",
       "      <td>4.9</td>\n",
       "      <td>4.2</td>\n",
       "      <td>0.9</td>\n",
       "      <td>2.4</td>\n",
       "      <td>1.4</td>\n",
       "      <td>0.5</td>\n",
       "      <td>24.0</td>\n",
       "      <td>N</td>\n",
       "    </tr>\n",
       "    <tr>\n",
       "      <th>1</th>\n",
       "      <td>735</td>\n",
       "      <td>34221</td>\n",
       "      <td>0.0</td>\n",
       "      <td>26</td>\n",
       "      <td>4.5</td>\n",
       "      <td>62</td>\n",
       "      <td>4.9</td>\n",
       "      <td>3.7</td>\n",
       "      <td>1.4</td>\n",
       "      <td>1.1</td>\n",
       "      <td>2.1</td>\n",
       "      <td>0.6</td>\n",
       "      <td>23.0</td>\n",
       "      <td>N</td>\n",
       "    </tr>\n",
       "    <tr>\n",
       "      <th>2</th>\n",
       "      <td>420</td>\n",
       "      <td>47975</td>\n",
       "      <td>1.0</td>\n",
       "      <td>50</td>\n",
       "      <td>4.7</td>\n",
       "      <td>46</td>\n",
       "      <td>4.9</td>\n",
       "      <td>4.2</td>\n",
       "      <td>0.9</td>\n",
       "      <td>2.4</td>\n",
       "      <td>1.4</td>\n",
       "      <td>0.5</td>\n",
       "      <td>24.0</td>\n",
       "      <td>N</td>\n",
       "    </tr>\n",
       "    <tr>\n",
       "      <th>3</th>\n",
       "      <td>680</td>\n",
       "      <td>87656</td>\n",
       "      <td>1.0</td>\n",
       "      <td>50</td>\n",
       "      <td>4.7</td>\n",
       "      <td>46</td>\n",
       "      <td>4.9</td>\n",
       "      <td>4.2</td>\n",
       "      <td>0.9</td>\n",
       "      <td>2.4</td>\n",
       "      <td>1.4</td>\n",
       "      <td>0.5</td>\n",
       "      <td>24.0</td>\n",
       "      <td>N</td>\n",
       "    </tr>\n",
       "    <tr>\n",
       "      <th>4</th>\n",
       "      <td>504</td>\n",
       "      <td>34223</td>\n",
       "      <td>0.0</td>\n",
       "      <td>33</td>\n",
       "      <td>7.1</td>\n",
       "      <td>46</td>\n",
       "      <td>4.9</td>\n",
       "      <td>4.9</td>\n",
       "      <td>1.0</td>\n",
       "      <td>0.8</td>\n",
       "      <td>2.0</td>\n",
       "      <td>0.4</td>\n",
       "      <td>21.0</td>\n",
       "      <td>N</td>\n",
       "    </tr>\n",
       "  </tbody>\n",
       "</table>\n",
       "</div>"
      ],
      "text/plain": [
       "    ID  No_Pation  Gender  AGE  Urea  Cr  HbA1c  Chol   TG  HDL  LDL  VLDL  \\\n",
       "0  502      17975     1.0   50   4.7  46    4.9   4.2  0.9  2.4  1.4   0.5   \n",
       "1  735      34221     0.0   26   4.5  62    4.9   3.7  1.4  1.1  2.1   0.6   \n",
       "2  420      47975     1.0   50   4.7  46    4.9   4.2  0.9  2.4  1.4   0.5   \n",
       "3  680      87656     1.0   50   4.7  46    4.9   4.2  0.9  2.4  1.4   0.5   \n",
       "4  504      34223     0.0   33   7.1  46    4.9   4.9  1.0  0.8  2.0   0.4   \n",
       "\n",
       "    BMI CLASS  \n",
       "0  24.0     N  \n",
       "1  23.0     N  \n",
       "2  24.0     N  \n",
       "3  24.0     N  \n",
       "4  21.0     N  "
      ]
     },
     "execution_count": 3,
     "metadata": {},
     "output_type": "execute_result"
    }
   ],
   "source": [
    "def reemplazo1():\n",
    "    '''Con la función map se cambia los valores binarios(0/1)\n",
    "    los valores de Gender (F=1, M=0)'''\n",
    "df_diabetes['Gender'] = df_diabetes['Gender'].map({'F': 1, 'M': 0})\n",
    "print(reemplazo1.__doc__)\n",
    "print(reemplazo1())\n",
    "df_diabetes.head()"
   ]
  },
  {
   "cell_type": "code",
   "execution_count": 4,
   "id": "5f6779d2",
   "metadata": {},
   "outputs": [
    {
     "name": "stdout",
     "output_type": "stream",
     "text": [
      "Con la función map se cambia los valores binarios(0/1)\n",
      "    los valores de CLASS (N=0, P=1, Y=2)\n",
      "None\n"
     ]
    },
    {
     "data": {
      "text/html": [
       "<div>\n",
       "<style scoped>\n",
       "    .dataframe tbody tr th:only-of-type {\n",
       "        vertical-align: middle;\n",
       "    }\n",
       "\n",
       "    .dataframe tbody tr th {\n",
       "        vertical-align: top;\n",
       "    }\n",
       "\n",
       "    .dataframe thead th {\n",
       "        text-align: right;\n",
       "    }\n",
       "</style>\n",
       "<table border=\"1\" class=\"dataframe\">\n",
       "  <thead>\n",
       "    <tr style=\"text-align: right;\">\n",
       "      <th></th>\n",
       "      <th>ID</th>\n",
       "      <th>No_Pation</th>\n",
       "      <th>Gender</th>\n",
       "      <th>AGE</th>\n",
       "      <th>Urea</th>\n",
       "      <th>Cr</th>\n",
       "      <th>HbA1c</th>\n",
       "      <th>Chol</th>\n",
       "      <th>TG</th>\n",
       "      <th>HDL</th>\n",
       "      <th>LDL</th>\n",
       "      <th>VLDL</th>\n",
       "      <th>BMI</th>\n",
       "      <th>CLASS</th>\n",
       "    </tr>\n",
       "  </thead>\n",
       "  <tbody>\n",
       "    <tr>\n",
       "      <th>0</th>\n",
       "      <td>502</td>\n",
       "      <td>17975</td>\n",
       "      <td>1.0</td>\n",
       "      <td>50</td>\n",
       "      <td>4.7</td>\n",
       "      <td>46</td>\n",
       "      <td>4.9</td>\n",
       "      <td>4.2</td>\n",
       "      <td>0.9</td>\n",
       "      <td>2.4</td>\n",
       "      <td>1.4</td>\n",
       "      <td>0.5</td>\n",
       "      <td>24.0</td>\n",
       "      <td>0.0</td>\n",
       "    </tr>\n",
       "    <tr>\n",
       "      <th>1</th>\n",
       "      <td>735</td>\n",
       "      <td>34221</td>\n",
       "      <td>0.0</td>\n",
       "      <td>26</td>\n",
       "      <td>4.5</td>\n",
       "      <td>62</td>\n",
       "      <td>4.9</td>\n",
       "      <td>3.7</td>\n",
       "      <td>1.4</td>\n",
       "      <td>1.1</td>\n",
       "      <td>2.1</td>\n",
       "      <td>0.6</td>\n",
       "      <td>23.0</td>\n",
       "      <td>0.0</td>\n",
       "    </tr>\n",
       "    <tr>\n",
       "      <th>2</th>\n",
       "      <td>420</td>\n",
       "      <td>47975</td>\n",
       "      <td>1.0</td>\n",
       "      <td>50</td>\n",
       "      <td>4.7</td>\n",
       "      <td>46</td>\n",
       "      <td>4.9</td>\n",
       "      <td>4.2</td>\n",
       "      <td>0.9</td>\n",
       "      <td>2.4</td>\n",
       "      <td>1.4</td>\n",
       "      <td>0.5</td>\n",
       "      <td>24.0</td>\n",
       "      <td>0.0</td>\n",
       "    </tr>\n",
       "    <tr>\n",
       "      <th>3</th>\n",
       "      <td>680</td>\n",
       "      <td>87656</td>\n",
       "      <td>1.0</td>\n",
       "      <td>50</td>\n",
       "      <td>4.7</td>\n",
       "      <td>46</td>\n",
       "      <td>4.9</td>\n",
       "      <td>4.2</td>\n",
       "      <td>0.9</td>\n",
       "      <td>2.4</td>\n",
       "      <td>1.4</td>\n",
       "      <td>0.5</td>\n",
       "      <td>24.0</td>\n",
       "      <td>0.0</td>\n",
       "    </tr>\n",
       "    <tr>\n",
       "      <th>4</th>\n",
       "      <td>504</td>\n",
       "      <td>34223</td>\n",
       "      <td>0.0</td>\n",
       "      <td>33</td>\n",
       "      <td>7.1</td>\n",
       "      <td>46</td>\n",
       "      <td>4.9</td>\n",
       "      <td>4.9</td>\n",
       "      <td>1.0</td>\n",
       "      <td>0.8</td>\n",
       "      <td>2.0</td>\n",
       "      <td>0.4</td>\n",
       "      <td>21.0</td>\n",
       "      <td>0.0</td>\n",
       "    </tr>\n",
       "  </tbody>\n",
       "</table>\n",
       "</div>"
      ],
      "text/plain": [
       "    ID  No_Pation  Gender  AGE  Urea  Cr  HbA1c  Chol   TG  HDL  LDL  VLDL  \\\n",
       "0  502      17975     1.0   50   4.7  46    4.9   4.2  0.9  2.4  1.4   0.5   \n",
       "1  735      34221     0.0   26   4.5  62    4.9   3.7  1.4  1.1  2.1   0.6   \n",
       "2  420      47975     1.0   50   4.7  46    4.9   4.2  0.9  2.4  1.4   0.5   \n",
       "3  680      87656     1.0   50   4.7  46    4.9   4.2  0.9  2.4  1.4   0.5   \n",
       "4  504      34223     0.0   33   7.1  46    4.9   4.9  1.0  0.8  2.0   0.4   \n",
       "\n",
       "    BMI  CLASS  \n",
       "0  24.0    0.0  \n",
       "1  23.0    0.0  \n",
       "2  24.0    0.0  \n",
       "3  24.0    0.0  \n",
       "4  21.0    0.0  "
      ]
     },
     "execution_count": 4,
     "metadata": {},
     "output_type": "execute_result"
    }
   ],
   "source": [
    "def reemplazo2():\n",
    "    '''Con la función map se cambia los valores binarios(0/1)\n",
    "    los valores de CLASS (N=0, P=1, Y=2)'''\n",
    "df_diabetes['CLASS'] = df_diabetes['CLASS'].map({'N': 0, 'P': 1, 'Y':2})\n",
    "print(reemplazo2.__doc__)\n",
    "print(reemplazo2())\n",
    "df_diabetes.head()"
   ]
  },
  {
   "cell_type": "markdown",
   "id": "ce9e7e2d",
   "metadata": {},
   "source": [
    "# Variable Independiente y Dependiente"
   ]
  },
  {
   "cell_type": "code",
   "execution_count": 5,
   "id": "7a279eed",
   "metadata": {},
   "outputs": [
    {
     "name": "stdout",
     "output_type": "stream",
     "text": [
      "Identificar la variable Independependiente o las características\n",
      "None\n"
     ]
    }
   ],
   "source": [
    "def independiente():\n",
    "    '''Identificar la variable Independependiente o las características'''\n",
    "var_independientes = ['ID', 'No_Pation', 'Gender', 'AGE', 'Urea', 'Cr', 'HbA1c', 'Chol', 'TG', 'HDL', 'LDL', 'VLDL','BMI']\n",
    "X = df_diabetes[var_independientes] #Características\n",
    "print(independiente.__doc__)\n",
    "print(independiente())"
   ]
  },
  {
   "cell_type": "code",
   "execution_count": 6,
   "id": "252e3f71",
   "metadata": {},
   "outputs": [
    {
     "name": "stdout",
     "output_type": "stream",
     "text": [
      "Identificar la variable dependiente o la etiqueta\n",
      "None\n"
     ]
    }
   ],
   "source": [
    "def dependiente():\n",
    "    '''Identificar la variable dependiente o la etiqueta'''\n",
    "y = df_diabetes.CLASS #etiqueta\n",
    "print(dependiente.__doc__)\n",
    "print(dependiente())"
   ]
  },
  {
   "cell_type": "code",
   "execution_count": 7,
   "id": "3a2514a9",
   "metadata": {},
   "outputs": [
    {
     "name": "stdout",
     "output_type": "stream",
     "text": [
      "      ID  No_Pation  Gender  AGE  Urea  Cr  HbA1c  Chol   TG  HDL  LDL  VLDL  \\\n",
      "0    502      17975     1.0   50   4.7  46    4.9   4.2  0.9  2.4  1.4   0.5   \n",
      "1    735      34221     0.0   26   4.5  62    4.9   3.7  1.4  1.1  2.1   0.6   \n",
      "2    420      47975     1.0   50   4.7  46    4.9   4.2  0.9  2.4  1.4   0.5   \n",
      "3    680      87656     1.0   50   4.7  46    4.9   4.2  0.9  2.4  1.4   0.5   \n",
      "4    504      34223     0.0   33   7.1  46    4.9   4.9  1.0  0.8  2.0   0.4   \n",
      "..   ...        ...     ...  ...   ...  ..    ...   ...  ...  ...  ...   ...   \n",
      "995  200     454317     0.0   71  11.0  97    7.0   7.5  1.7  1.2  1.8   0.6   \n",
      "996  671     876534     0.0   31   3.0  60   12.3   4.1  2.2  0.7  2.4  15.4   \n",
      "997  669      87654     0.0   30   7.1  81    6.7   4.1  1.1  1.2  2.4   8.1   \n",
      "998   99      24004     0.0   38   5.8  59    6.7   5.3  2.0  1.6  2.9  14.0   \n",
      "999  248      24054     0.0   54   5.0  67    6.9   3.8  1.7  1.1  3.0   0.7   \n",
      "\n",
      "      BMI  \n",
      "0    24.0  \n",
      "1    23.0  \n",
      "2    24.0  \n",
      "3    24.0  \n",
      "4    21.0  \n",
      "..    ...  \n",
      "995  30.0  \n",
      "996  37.2  \n",
      "997  27.4  \n",
      "998  40.5  \n",
      "999  33.0  \n",
      "\n",
      "[1000 rows x 13 columns]\n",
      "\n",
      "0      0.0\n",
      "1      0.0\n",
      "2      0.0\n",
      "3      0.0\n",
      "4      0.0\n",
      "      ... \n",
      "995    2.0\n",
      "996    NaN\n",
      "997    NaN\n",
      "998    NaN\n",
      "999    NaN\n",
      "Name: CLASS, Length: 1000, dtype: float64\n",
      "Se imprime las dos varibles(X, y) indentificadas anteriormente\n",
      "None\n"
     ]
    }
   ],
   "source": [
    "def imprimirXy():\n",
    "    '''Se imprime las dos varibles(X, y) indentificadas anteriormente'''\n",
    "print(X, y, sep='\\n\\n')\n",
    "print(imprimirXy.__doc__)\n",
    "print(imprimirXy())"
   ]
  },
  {
   "cell_type": "code",
   "execution_count": 8,
   "id": "7c62d876",
   "metadata": {},
   "outputs": [
    {
     "name": "stdout",
     "output_type": "stream",
     "text": [
      "Verificar que en el dataset no haya nulos\n",
      "None\n"
     ]
    },
    {
     "data": {
      "text/plain": [
       "ID           0\n",
       "No_Pation    0\n",
       "Gender       1\n",
       "AGE          0\n",
       "Urea         0\n",
       "Cr           0\n",
       "HbA1c        0\n",
       "Chol         0\n",
       "TG           0\n",
       "HDL          0\n",
       "LDL          0\n",
       "VLDL         0\n",
       "BMI          0\n",
       "CLASS        5\n",
       "dtype: int64"
      ]
     },
     "execution_count": 8,
     "metadata": {},
     "output_type": "execute_result"
    }
   ],
   "source": [
    "def nulos():\n",
    "    '''Verificar que en el dataset no haya nulos'''\n",
    "print(nulos.__doc__)\n",
    "print(nulos())\n",
    "df_diabetes.isnull().sum()"
   ]
  },
  {
   "cell_type": "code",
   "execution_count": 9,
   "id": "2bfeccac",
   "metadata": {},
   "outputs": [
    {
     "name": "stdout",
     "output_type": "stream",
     "text": [
      "Transformar los valores nulos existentes en el dataset\n",
      "None\n"
     ]
    },
    {
     "name": "stderr",
     "output_type": "stream",
     "text": [
      "C:\\Users\\Personal\\AppData\\Local\\Temp\\ipykernel_5768\\2143138675.py:5: SettingWithCopyWarning: \n",
      "A value is trying to be set on a copy of a slice from a DataFrame\n",
      "\n",
      "See the caveats in the documentation: https://pandas.pydata.org/pandas-docs/stable/user_guide/indexing.html#returning-a-view-versus-a-copy\n",
      "  X.fillna(0, inplace=True)\n"
     ]
    }
   ],
   "source": [
    "def nulos():\n",
    "    '''Transformar los valores nulos existentes en el dataset'''\n",
    "print(nulos.__doc__)\n",
    "print(nulos())\n",
    "X.fillna(0, inplace=True)\n",
    "y.fillna(0, inplace=True)"
   ]
  },
  {
   "cell_type": "markdown",
   "id": "fffeb8ca",
   "metadata": {},
   "source": [
    "# Dividir el dataset"
   ]
  },
  {
   "cell_type": "code",
   "execution_count": 10,
   "id": "904965ea",
   "metadata": {},
   "outputs": [
    {
     "name": "stdout",
     "output_type": "stream",
     "text": [
      "Se va a dividir el conjunto de datos de dígitos a un 70% para lo que \n",
      "    es el entrenamiento de los datos y un 30% para realizar las pruebas\n",
      "None\n"
     ]
    }
   ],
   "source": [
    "# split dataset into training and test set (70:30) ratio\n",
    "def entrenar():\n",
    "    '''Se va a dividir el conjunto de datos de dígitos a un 70% para lo que \n",
    "    es el entrenamiento de los datos y un 30% para realizar las pruebas'''\n",
    "X_train, X_test, y_train, y_test = train_test_split(X, y, test_size=0.3, random_state=1)\n",
    "print(entrenar.__doc__)\n",
    "print(entrenar())"
   ]
  },
  {
   "cell_type": "code",
   "execution_count": 11,
   "id": "4958342b",
   "metadata": {},
   "outputs": [
    {
     "name": "stdout",
     "output_type": "stream",
     "text": [
      "Crear un objeto clasificador del árbol de decisiones\n",
      "None\n"
     ]
    }
   ],
   "source": [
    "def crearAD():\n",
    "    '''Crear un objeto clasificador del árbol de decisiones'''\n",
    "clf = DecisionTreeClassifier()\n",
    "print(crearAD.__doc__)\n",
    "print(crearAD())"
   ]
  },
  {
   "cell_type": "code",
   "execution_count": 12,
   "id": "20f6b14b",
   "metadata": {},
   "outputs": [
    {
     "name": "stdout",
     "output_type": "stream",
     "text": [
      "Entrenar el clasificador del árbol de decisión\n",
      "None\n"
     ]
    }
   ],
   "source": [
    "def entrenarAD():\n",
    "    '''Entrenar el clasificador del árbol de decisión'''\n",
    "clf = clf.fit(X_train,y_train)\n",
    "print(entrenarAD.__doc__)\n",
    "print(entrenarAD())"
   ]
  },
  {
   "cell_type": "code",
   "execution_count": 13,
   "id": "ffdd21f8",
   "metadata": {},
   "outputs": [
    {
     "name": "stdout",
     "output_type": "stream",
     "text": [
      "[2. 2. 2. 2. 2. 2. 2. 2. 2. 0. 2. 1. 2. 2. 2. 1. 1. 0. 2. 2. 2. 2. 2. 2.\n",
      " 2. 1. 2. 2. 2. 2. 2. 2. 2. 2. 2. 2. 0. 2. 2. 2. 2. 2. 0. 0. 2. 2. 2. 0.\n",
      " 2. 2. 2. 2. 2. 0. 1. 2. 2. 2. 2. 2. 2. 2. 2. 2. 2. 2. 2. 2. 2. 0. 2. 2.\n",
      " 2. 2. 2. 0. 2. 2. 2. 2. 2. 2. 2. 2. 2. 2. 2. 2. 2. 2. 2. 0. 2. 2. 2. 2.\n",
      " 2. 2. 2. 1. 2. 0. 2. 2. 2. 2. 2. 2. 2. 2. 2. 2. 2. 2. 2. 2. 2. 2. 1. 2.\n",
      " 2. 2. 0. 2. 2. 2. 2. 2. 2. 2. 2. 2. 2. 0. 2. 2. 2. 2. 2. 2. 0. 1. 2. 2.\n",
      " 1. 2. 2. 2. 2. 2. 2. 2. 0. 2. 0. 2. 2. 2. 0. 2. 2. 2. 1. 2. 2. 2. 2. 2.\n",
      " 2. 2. 2. 0. 2. 2. 2. 2. 0. 2. 2. 2. 2. 0. 2. 2. 2. 2. 2. 2. 2. 2. 2. 2.\n",
      " 2. 2. 2. 2. 2. 2. 2. 2. 2. 2. 2. 0. 2. 2. 0. 2. 2. 2. 2. 2. 2. 2. 2. 2.\n",
      " 2. 2. 2. 0. 2. 2. 2. 2. 2. 2. 0. 2. 2. 2. 0. 2. 2. 2. 2. 2. 2. 2. 2. 0.\n",
      " 2. 0. 2. 2. 2. 2. 2. 2. 1. 2. 2. 2. 2. 2. 2. 2. 2. 2. 2. 2. 1. 2. 0. 0.\n",
      " 2. 2. 2. 2. 2. 0. 2. 0. 2. 0. 2. 2. 2. 2. 2. 2. 2. 2. 0. 2. 2. 2. 2. 1.\n",
      " 2. 2. 2. 2. 2. 2. 2. 2. 2. 0. 2. 2.]\n",
      "Predecir la respuesta para el conjunto de datos de prueba\n",
      "None\n"
     ]
    }
   ],
   "source": [
    "def predecirAD():\n",
    "    '''Predecir la respuesta para el conjunto de datos de prueba'''\n",
    "y_pred = clf.predict(X_test)\n",
    "print(y_pred)\n",
    "print(predecirAD.__doc__)\n",
    "print(predecirAD())"
   ]
  },
  {
   "cell_type": "markdown",
   "id": "882f9b32",
   "metadata": {},
   "source": [
    "# Matriz de Confusión"
   ]
  },
  {
   "cell_type": "code",
   "execution_count": 14,
   "id": "f8e44595",
   "metadata": {},
   "outputs": [
    {
     "name": "stdout",
     "output_type": "stream",
     "text": [
      "Librerías para la matriz de confusión\n",
      "None\n"
     ]
    }
   ],
   "source": [
    "def libreriasMC():\n",
    "    '''Librerías para la matriz de confusión'''\n",
    "import matplotlib.pyplot as plt\n",
    "from sklearn.metrics import accuracy_score, precision_score, confusion_matrix, ConfusionMatrixDisplay\n",
    "from sklearn.metrics import plot_confusion_matrix\n",
    "print(libreriasMC.__doc__)\n",
    "print(libreriasMC())"
   ]
  },
  {
   "cell_type": "code",
   "execution_count": 15,
   "id": "62f5380a",
   "metadata": {},
   "outputs": [
    {
     "name": "stdout",
     "output_type": "stream",
     "text": [
      "Matriz de confusión\n"
     ]
    },
    {
     "data": {
      "text/plain": [
       "array([[ 29,   0,   5],\n",
       "       [  2,  13,   1],\n",
       "       [  3,   0, 247]], dtype=int64)"
      ]
     },
     "execution_count": 15,
     "metadata": {},
     "output_type": "execute_result"
    }
   ],
   "source": [
    "def matriz():\n",
    "    '''Matriz de confusión'''\n",
    "print(matriz.__doc__)\n",
    "confusion_matrix(y_test, y_pred)"
   ]
  },
  {
   "cell_type": "code",
   "execution_count": 16,
   "id": "6be16701",
   "metadata": {},
   "outputs": [
    {
     "name": "stdout",
     "output_type": "stream",
     "text": [
      "Visualización de la matriz de confusión\n"
     ]
    },
    {
     "name": "stderr",
     "output_type": "stream",
     "text": [
      "C:\\Users\\Personal\\anaconda3\\lib\\site-packages\\sklearn\\utils\\deprecation.py:87: FutureWarning: Function plot_confusion_matrix is deprecated; Function `plot_confusion_matrix` is deprecated in 1.0 and will be removed in 1.2. Use one of the class methods: ConfusionMatrixDisplay.from_predictions or ConfusionMatrixDisplay.from_estimator.\n",
      "  warnings.warn(msg, category=FutureWarning)\n"
     ]
    },
    {
     "data": {
      "image/png": "[encoded data removed]",
      "text/plain": [
       "<Figure size 432x288 with 2 Axes>"
      ]
     },
     "metadata": {
      "needs_background": "light"
     },
     "output_type": "display_data"
    }
   ],
   "source": [
    "def visualizar():\n",
    "    '''Visualización de la matriz de confusión'''\n",
    "print(visualizar.__doc__)\n",
    "plot_confusion_matrix(clf, X_test, y_test, cmap=plt.cm.Reds)\n",
    "plt.title(\"Matriz de confusión\")\n",
    "plt.show()"
   ]
  },
  {
   "cell_type": "markdown",
   "id": "7b3a6873",
   "metadata": {},
   "source": [
    "En base a los resultados obtenidos en la matriz de confusión através de los diferentes datos configurados, se puede decir que la celda identificada por la fila y la columna para la clase positiva contiene los verdaderos positivos, es decir, donde la clase real y predicha es 0. Las celdas identificadas por la fila para la clase positiva y las columnas para la clase negativa contienen los falsos negativos , donde la clase real es 0 y la clase predicha es 2 o 1. Las celdas identificadas por filas para la clase negativa y la columna para la clase positiva contienen los falsos positivos, donde la clase real es 2 o 1, y la clase predicha es 0. Las celdas fuera de la fila y la columna para la clase positiva contienen los verdaderos negativos, donde la clase real es 2 o 1 y la clase predicha es 2 o 1. Una predicción incorrecta dentro de la clase negativa todavía se considera como un verdadero negativo.\n",
    "\n",
    "En conclusión, se puede decir que los valores de la diagonal principal a=29, e=13 y i=246 corresponden con los valores estimados de forma correcta por el modelo."
   ]
  },
  {
   "cell_type": "markdown",
   "id": "d92438fe",
   "metadata": {},
   "source": [
    "# Métricas"
   ]
  },
  {
   "cell_type": "code",
   "execution_count": 18,
   "id": "3eb767f4",
   "metadata": {},
   "outputs": [
    {
     "name": "stdout",
     "output_type": "stream",
     "text": [
      "Evaluar el modelo mediante las tres métricas de evaluación del Accurancy\n",
      "Accuracy: 0.9633333333333334\n"
     ]
    }
   ],
   "source": [
    "def evaluarA():\n",
    "    '''Evaluar el modelo mediante las tres métricas de evaluación del Accurancy'''\n",
    "print(evaluarA.__doc__)\n",
    "print(\"Accuracy:\", metrics.accuracy_score(y_test, y_pred))"
   ]
  },
  {
   "cell_type": "code",
   "execution_count": 19,
   "id": "7cdc5472",
   "metadata": {},
   "outputs": [
    {
     "name": "stdout",
     "output_type": "stream",
     "text": [
      "Evaluar el modelo mediante las tres métricas de evaluación del Precisión\n",
      "Precisión:\n",
      "  0.9430752538169419\n"
     ]
    }
   ],
   "source": [
    "def evaluarP():\n",
    "    '''Evaluar el modelo mediante las tres métricas de evaluación del Precisión'''\n",
    "print(evaluarP.__doc__)\n",
    "print(\"Precisión:\\n \", metrics.precision_score(y_test, y_pred, average = 'macro'))"
   ]
  },
  {
   "cell_type": "code",
   "execution_count": 20,
   "id": "6ee7c18e",
   "metadata": {},
   "outputs": [
    {
     "name": "stdout",
     "output_type": "stream",
     "text": [
      "Evaluar el modelo mediante las tres métricas de evaluación del Recall\n",
      "Recall:\n",
      "  0.8844803921568628\n"
     ]
    }
   ],
   "source": [
    "def evaluarR():\n",
    "    '''Evaluar el modelo mediante las tres métricas de evaluación del Recall'''\n",
    "print(evaluarR.__doc__)\n",
    "print(\"Recall:\\n \", metrics.recall_score(y_test, y_pred, average = 'macro'))"
   ]
  },
  {
   "cell_type": "markdown",
   "id": "c7c9ad7f",
   "metadata": {},
   "source": [
    "Se dice que el el modelo acierta el 0.9633333333333334 de las veces. Con la métrica de presición se evaluó la calidad del modelo, el cual se obtuvo un 0.9430752538169419 de presición de los datos. Para la sensibilidad del modelo se usa la métrica del recall, donde un 0.8844803921568628 de cantidad de datos identificados."
   ]
  },
  {
   "cell_type": "code",
   "execution_count": null,
   "id": "3fd50ca0",
   "metadata": {},
   "outputs": [],
   "source": []
  }
 ],
 "metadata": {
  "kernelspec": {
   "display_name": "Python 3 (ipykernel)",
   "language": "python",
   "name": "python3"
  },
  "language_info": {
   "codemirror_mode": {
    "name": "ipython",
    "version": 3
   },
   "file_extension": ".py",
   "mimetype": "text/x-python",
   "name": "python",
   "nbconvert_exporter": "python",
   "pygments_lexer": "ipython3",
   "version": "3.9.12"
  }
 },
 "nbformat": 4,
 "nbformat_minor": 5
}
